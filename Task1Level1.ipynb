{
 "cells": [
  {
   "cell_type": "code",
   "execution_count": 3,
   "id": "1f58a960-0062-43de-8e42-3746a3e2cc44",
   "metadata": {},
   "outputs": [],
   "source": [
    "### Wikipedia allows scraping of its website for demo purposes. So I will be scraping its page on list of countries and dependencies by population. \n",
    "### I will extract country name and population.\n"
   ]
  },
  {
   "cell_type": "code",
   "execution_count": 4,
   "id": "bd45d88d-25de-4712-9937-09efbd780819",
   "metadata": {},
   "outputs": [],
   "source": [
    "### First, import necessary libraries\n",
    "\n",
    "import requests\n",
    "from bs4 import BeautifulSoup\n",
    "import pandas as pd\n"
   ]
  },
  {
   "cell_type": "code",
   "execution_count": 5,
   "id": "a18a192a-2adf-4882-9170-dc85ccafb7b4",
   "metadata": {},
   "outputs": [],
   "source": [
    "### Second, list the target website's url \n",
    "\n",
    "url = \"https://en.wikipedia.org/wiki/List_of_countries_and_dependencies_by_population\""
   ]
  },
  {
   "cell_type": "code",
   "execution_count": 9,
   "id": "cf6cdec4-6bed-4bec-8ccd-4383e27c09f9",
   "metadata": {},
   "outputs": [
    {
     "name": "stdout",
     "output_type": "stream",
     "text": [
      "Request failed: 403\n"
     ]
    }
   ],
   "source": [
    "### Next, will be to extract the content of the above page\n",
    "\n",
    "import requests\n",
    "from bs4 import BeautifulSoup\n",
    "\n",
    "url = \"https://en.wikipedia.org/wiki/List_of_countries_and_dependencies_by_population\"\n",
    "response = requests.get(url)\n",
    "\n",
    "if response.status_code == 200:\n",
    "    soup = BeautifulSoup(response.text, \"html.parser\")\n",
    "else:\n",
    "    print(\"Request failed:\", response.status_code)\n",
    "    soup = None\n"
   ]
  },
  {
   "cell_type": "code",
   "execution_count": 11,
   "id": "1ab1da63-b35f-4709-990b-cb24f58b7453",
   "metadata": {},
   "outputs": [],
   "source": [
    "### Encountered a block from Wikipedia which thinks my code is a bot command.\n",
    "### To resolve this, I add a user agent to my commands"
   ]
  },
  {
   "cell_type": "code",
   "execution_count": 12,
   "id": "126b9fd9-b6be-419b-8951-44d3be609baa",
   "metadata": {},
   "outputs": [
    {
     "name": "stdout",
     "output_type": "stream",
     "text": [
      "Page fetched successfully ✅\n"
     ]
    }
   ],
   "source": [
    "import requests\n",
    "from bs4 import BeautifulSoup\n",
    "\n",
    "url = \"https://en.wikipedia.org/wiki/List_of_countries_and_dependencies_by_population\"\n",
    "\n",
    "headers = {\n",
    "    \"User-Agent\": \"Mozilla/5.0 (Windows NT 10.0; Win64; x64) \"\n",
    "                  \"AppleWebKit/537.36 (KHTML, like Gecko) \"\n",
    "                  \"Chrome/120.0.0.0 Safari/537.36\"\n",
    "}\n",
    "\n",
    "response = requests.get(url, headers=headers)\n",
    "\n",
    "if response.status_code == 200:\n",
    "    soup = BeautifulSoup(response.text, \"html.parser\")\n",
    "    print(\"Page fetched successfully ✅\")\n",
    "else:\n",
    "    print(\"Request failed:\", response.status_code)\n",
    "    soup = None\n"
   ]
  },
  {
   "cell_type": "code",
   "execution_count": 13,
   "id": "b0cebec6-2ac6-4373-94db-5de928985812",
   "metadata": {},
   "outputs": [],
   "source": [
    "### Page was fetched successfully."
   ]
  },
  {
   "cell_type": "code",
   "execution_count": 15,
   "id": "60d93fba-f0f7-4f19-8b51-cf0a414e2715",
   "metadata": {},
   "outputs": [],
   "source": [
    "### Next, \n",
    "\n",
    "table = soup.find(\"table\", {\"class\": \"wikitable\"})"
   ]
  },
  {
   "cell_type": "code",
   "execution_count": 17,
   "id": "efb7264f-4b37-49a5-b861-0e342351e322",
   "metadata": {},
   "outputs": [],
   "source": [
    "### To extract rows,\n",
    "rows = table.find_all(\"tr\")\n"
   ]
  },
  {
   "cell_type": "code",
   "execution_count": 18,
   "id": "8ec1231a-243a-481e-a9fc-6a980765e4e1",
   "metadata": {},
   "outputs": [],
   "source": [
    "data = []\n",
    "for row in rows[1:]:  # skip header\n",
    "    cols = row.find_all([\"td\", \"th\"])\n",
    "    cols = [col.get_text(strip=True) for col in cols]\n",
    "    \n",
    "    if len(cols) >= 3:\n",
    "        country = cols[1]\n",
    "        population = cols[2]\n",
    "        data.append({\"Country\": country, \"Population\": population})"
   ]
  },
  {
   "cell_type": "code",
   "execution_count": 19,
   "id": "a466ba98-d565-4c97-a649-c6d71267eb12",
   "metadata": {},
   "outputs": [],
   "source": [
    "### To save my work into a datframe;\n",
    "df = pd.DataFrame(data)"
   ]
  },
  {
   "cell_type": "code",
   "execution_count": 20,
   "id": "a4c7ec45-0f3e-4ea4-bff8-f791db73ca94",
   "metadata": {},
   "outputs": [],
   "source": [
    "### Finally, save work in json, csv files\n",
    "df.to_csv(\"wikipedia_population.csv\", index=False)\n",
    "df.to_json(\"wikipedia_population.json\", orient=\"records\", indent=2)\n"
   ]
  },
  {
   "cell_type": "code",
   "execution_count": 21,
   "id": "6e400f80-e391-454e-80c0-2e9c893d0fd6",
   "metadata": {},
   "outputs": [
    {
     "name": "stdout",
     "output_type": "stream",
     "text": [
      "         Country Population\n",
      "0  8,232,000,000       100%\n",
      "1  1,417,492,000      17.3%\n",
      "2  1,408,280,000      17.2%\n",
      "3    340,110,988       4.1%\n",
      "4    284,438,782       3.5%\n",
      "5    241,499,431       2.9%\n",
      "6    223,800,000       2.7%\n",
      "7    213,421,037       2.6%\n",
      "8    169,828,911       2.1%\n",
      "9    146,028,325       1.8%\n"
     ]
    }
   ],
   "source": [
    "### To check the result (the first 10 lines)\n",
    "print(df.head(10))"
   ]
  },
  {
   "cell_type": "code",
   "execution_count": 23,
   "id": "6f3b5299-61fe-40ef-82ff-94ad0225af24",
   "metadata": {},
   "outputs": [],
   "source": [
    "### This wikipedia site has been scrapped successfully "
   ]
  },
  {
   "cell_type": "code",
   "execution_count": null,
   "id": "d7f390d5-c3a5-4334-aec9-89662f755310",
   "metadata": {},
   "outputs": [],
   "source": []
  }
 ],
 "metadata": {
  "kernelspec": {
   "display_name": "Python 3 (ipykernel)",
   "language": "python",
   "name": "python3"
  },
  "language_info": {
   "codemirror_mode": {
    "name": "ipython",
    "version": 3
   },
   "file_extension": ".py",
   "mimetype": "text/x-python",
   "name": "python",
   "nbconvert_exporter": "python",
   "pygments_lexer": "ipython3",
   "version": "3.12.7"
  }
 },
 "nbformat": 4,
 "nbformat_minor": 5
}
